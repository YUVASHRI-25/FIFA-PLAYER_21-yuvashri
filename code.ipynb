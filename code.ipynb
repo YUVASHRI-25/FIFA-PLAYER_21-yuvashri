{
 "cells": [
  {
   "cell_type": "code",
   "execution_count": 2,
   "id": "76985eec",
   "metadata": {},
   "outputs": [],
   "source": [
    "import pandas as pd \n",
    "import numpy as np \n",
    "import matplotlib.pyplot as plt"
   ]
  },
  {
   "cell_type": "code",
   "execution_count": 3,
   "id": "cd86ff77",
   "metadata": {},
   "outputs": [
    {
     "data": {
      "text/html": [
       "<div>\n",
       "<style scoped>\n",
       "    .dataframe tbody tr th:only-of-type {\n",
       "        vertical-align: middle;\n",
       "    }\n",
       "\n",
       "    .dataframe tbody tr th {\n",
       "        vertical-align: top;\n",
       "    }\n",
       "\n",
       "    .dataframe thead th {\n",
       "        text-align: right;\n",
       "    }\n",
       "</style>\n",
       "<table border=\"1\" class=\"dataframe\">\n",
       "  <thead>\n",
       "    <tr style=\"text-align: right;\">\n",
       "      <th></th>\n",
       "      <th>sofifa_id</th>\n",
       "      <th>player_url</th>\n",
       "      <th>short_name</th>\n",
       "      <th>long_name</th>\n",
       "      <th>age</th>\n",
       "      <th>dob</th>\n",
       "      <th>height_cm</th>\n",
       "      <th>weight_kg</th>\n",
       "      <th>nationality</th>\n",
       "      <th>club_name</th>\n",
       "      <th>...</th>\n",
       "      <th>lwb</th>\n",
       "      <th>ldm</th>\n",
       "      <th>cdm</th>\n",
       "      <th>rdm</th>\n",
       "      <th>rwb</th>\n",
       "      <th>lb</th>\n",
       "      <th>lcb</th>\n",
       "      <th>cb</th>\n",
       "      <th>rcb</th>\n",
       "      <th>rb</th>\n",
       "    </tr>\n",
       "  </thead>\n",
       "  <tbody>\n",
       "    <tr>\n",
       "      <th>0</th>\n",
       "      <td>158023</td>\n",
       "      <td>https://sofifa.com/player/158023/lionel-messi/...</td>\n",
       "      <td>L. Messi</td>\n",
       "      <td>Lionel Andrés Messi Cuccittini</td>\n",
       "      <td>33</td>\n",
       "      <td>1987-06-24</td>\n",
       "      <td>170</td>\n",
       "      <td>72</td>\n",
       "      <td>Argentina</td>\n",
       "      <td>FC Barcelona</td>\n",
       "      <td>...</td>\n",
       "      <td>66+3</td>\n",
       "      <td>65+3</td>\n",
       "      <td>65+3</td>\n",
       "      <td>65+3</td>\n",
       "      <td>66+3</td>\n",
       "      <td>62+3</td>\n",
       "      <td>52+3</td>\n",
       "      <td>52+3</td>\n",
       "      <td>52+3</td>\n",
       "      <td>62+3</td>\n",
       "    </tr>\n",
       "    <tr>\n",
       "      <th>1</th>\n",
       "      <td>20801</td>\n",
       "      <td>https://sofifa.com/player/20801/c-ronaldo-dos-...</td>\n",
       "      <td>Cristiano Ronaldo</td>\n",
       "      <td>Cristiano Ronaldo dos Santos Aveiro</td>\n",
       "      <td>35</td>\n",
       "      <td>1985-02-05</td>\n",
       "      <td>187</td>\n",
       "      <td>83</td>\n",
       "      <td>Portugal</td>\n",
       "      <td>Juventus</td>\n",
       "      <td>...</td>\n",
       "      <td>65+3</td>\n",
       "      <td>61+3</td>\n",
       "      <td>61+3</td>\n",
       "      <td>61+3</td>\n",
       "      <td>65+3</td>\n",
       "      <td>61+3</td>\n",
       "      <td>54+3</td>\n",
       "      <td>54+3</td>\n",
       "      <td>54+3</td>\n",
       "      <td>61+3</td>\n",
       "    </tr>\n",
       "    <tr>\n",
       "      <th>2</th>\n",
       "      <td>200389</td>\n",
       "      <td>https://sofifa.com/player/200389/jan-oblak/210002</td>\n",
       "      <td>J. Oblak</td>\n",
       "      <td>Jan Oblak</td>\n",
       "      <td>27</td>\n",
       "      <td>1993-01-07</td>\n",
       "      <td>188</td>\n",
       "      <td>87</td>\n",
       "      <td>Slovenia</td>\n",
       "      <td>Atlético Madrid</td>\n",
       "      <td>...</td>\n",
       "      <td>32+3</td>\n",
       "      <td>36+3</td>\n",
       "      <td>36+3</td>\n",
       "      <td>36+3</td>\n",
       "      <td>32+3</td>\n",
       "      <td>32+3</td>\n",
       "      <td>33+3</td>\n",
       "      <td>33+3</td>\n",
       "      <td>33+3</td>\n",
       "      <td>32+3</td>\n",
       "    </tr>\n",
       "    <tr>\n",
       "      <th>3</th>\n",
       "      <td>188545</td>\n",
       "      <td>https://sofifa.com/player/188545/robert-lewand...</td>\n",
       "      <td>R. Lewandowski</td>\n",
       "      <td>Robert Lewandowski</td>\n",
       "      <td>31</td>\n",
       "      <td>1988-08-21</td>\n",
       "      <td>184</td>\n",
       "      <td>80</td>\n",
       "      <td>Poland</td>\n",
       "      <td>FC Bayern München</td>\n",
       "      <td>...</td>\n",
       "      <td>64+3</td>\n",
       "      <td>65+3</td>\n",
       "      <td>65+3</td>\n",
       "      <td>65+3</td>\n",
       "      <td>64+3</td>\n",
       "      <td>61+3</td>\n",
       "      <td>60+3</td>\n",
       "      <td>60+3</td>\n",
       "      <td>60+3</td>\n",
       "      <td>61+3</td>\n",
       "    </tr>\n",
       "    <tr>\n",
       "      <th>4</th>\n",
       "      <td>190871</td>\n",
       "      <td>https://sofifa.com/player/190871/neymar-da-sil...</td>\n",
       "      <td>Neymar Jr</td>\n",
       "      <td>Neymar da Silva Santos Júnior</td>\n",
       "      <td>28</td>\n",
       "      <td>1992-02-05</td>\n",
       "      <td>175</td>\n",
       "      <td>68</td>\n",
       "      <td>Brazil</td>\n",
       "      <td>Paris Saint-Germain</td>\n",
       "      <td>...</td>\n",
       "      <td>67+3</td>\n",
       "      <td>62+3</td>\n",
       "      <td>62+3</td>\n",
       "      <td>62+3</td>\n",
       "      <td>67+3</td>\n",
       "      <td>62+3</td>\n",
       "      <td>49+3</td>\n",
       "      <td>49+3</td>\n",
       "      <td>49+3</td>\n",
       "      <td>62+3</td>\n",
       "    </tr>\n",
       "    <tr>\n",
       "      <th>...</th>\n",
       "      <td>...</td>\n",
       "      <td>...</td>\n",
       "      <td>...</td>\n",
       "      <td>...</td>\n",
       "      <td>...</td>\n",
       "      <td>...</td>\n",
       "      <td>...</td>\n",
       "      <td>...</td>\n",
       "      <td>...</td>\n",
       "      <td>...</td>\n",
       "      <td>...</td>\n",
       "      <td>...</td>\n",
       "      <td>...</td>\n",
       "      <td>...</td>\n",
       "      <td>...</td>\n",
       "      <td>...</td>\n",
       "      <td>...</td>\n",
       "      <td>...</td>\n",
       "      <td>...</td>\n",
       "      <td>...</td>\n",
       "      <td>...</td>\n",
       "    </tr>\n",
       "    <tr>\n",
       "      <th>18939</th>\n",
       "      <td>256679</td>\n",
       "      <td>https://sofifa.com/player/256679/kevin-angulo/...</td>\n",
       "      <td>K. Angulo</td>\n",
       "      <td>Kevin Angulo</td>\n",
       "      <td>24</td>\n",
       "      <td>1996-04-13</td>\n",
       "      <td>176</td>\n",
       "      <td>73</td>\n",
       "      <td>Colombia</td>\n",
       "      <td>América de Cali</td>\n",
       "      <td>...</td>\n",
       "      <td>47+2</td>\n",
       "      <td>47+2</td>\n",
       "      <td>47+2</td>\n",
       "      <td>47+2</td>\n",
       "      <td>47+2</td>\n",
       "      <td>47+2</td>\n",
       "      <td>46+2</td>\n",
       "      <td>46+2</td>\n",
       "      <td>46+2</td>\n",
       "      <td>47+2</td>\n",
       "    </tr>\n",
       "    <tr>\n",
       "      <th>18940</th>\n",
       "      <td>257710</td>\n",
       "      <td>https://sofifa.com/player/257710/mengxuan-zhan...</td>\n",
       "      <td>Zhang Mengxuan</td>\n",
       "      <td>Mengxuan Zhang</td>\n",
       "      <td>21</td>\n",
       "      <td>1999-04-26</td>\n",
       "      <td>177</td>\n",
       "      <td>70</td>\n",
       "      <td>China PR</td>\n",
       "      <td>Chongqing Dangdai Lifan FC SWM Team</td>\n",
       "      <td>...</td>\n",
       "      <td>42+2</td>\n",
       "      <td>41+2</td>\n",
       "      <td>41+2</td>\n",
       "      <td>41+2</td>\n",
       "      <td>42+2</td>\n",
       "      <td>45+2</td>\n",
       "      <td>47+2</td>\n",
       "      <td>47+2</td>\n",
       "      <td>47+2</td>\n",
       "      <td>45+2</td>\n",
       "    </tr>\n",
       "    <tr>\n",
       "      <th>18941</th>\n",
       "      <td>250989</td>\n",
       "      <td>https://sofifa.com/player/250989/zhenghao-wang...</td>\n",
       "      <td>Wang Zhenghao</td>\n",
       "      <td>王政豪</td>\n",
       "      <td>20</td>\n",
       "      <td>2000-06-28</td>\n",
       "      <td>185</td>\n",
       "      <td>74</td>\n",
       "      <td>China PR</td>\n",
       "      <td>Tianjin TEDA FC</td>\n",
       "      <td>...</td>\n",
       "      <td>42+2</td>\n",
       "      <td>42+2</td>\n",
       "      <td>42+2</td>\n",
       "      <td>42+2</td>\n",
       "      <td>42+2</td>\n",
       "      <td>44+2</td>\n",
       "      <td>47+2</td>\n",
       "      <td>47+2</td>\n",
       "      <td>47+2</td>\n",
       "      <td>44+2</td>\n",
       "    </tr>\n",
       "    <tr>\n",
       "      <th>18942</th>\n",
       "      <td>257697</td>\n",
       "      <td>https://sofifa.com/player/257697/zitong-chen/2...</td>\n",
       "      <td>Chen Zitong</td>\n",
       "      <td>Zitong Chen</td>\n",
       "      <td>23</td>\n",
       "      <td>1997-02-20</td>\n",
       "      <td>186</td>\n",
       "      <td>80</td>\n",
       "      <td>China PR</td>\n",
       "      <td>Shijiazhuang Ever Bright F.C.</td>\n",
       "      <td>...</td>\n",
       "      <td>47+2</td>\n",
       "      <td>49+2</td>\n",
       "      <td>49+2</td>\n",
       "      <td>49+2</td>\n",
       "      <td>47+2</td>\n",
       "      <td>47+2</td>\n",
       "      <td>49+2</td>\n",
       "      <td>49+2</td>\n",
       "      <td>49+2</td>\n",
       "      <td>47+2</td>\n",
       "    </tr>\n",
       "    <tr>\n",
       "      <th>18943</th>\n",
       "      <td>257936</td>\n",
       "      <td>https://sofifa.com/player/257936/yue-song/210002</td>\n",
       "      <td>Song Yue</td>\n",
       "      <td>Yue Song</td>\n",
       "      <td>28</td>\n",
       "      <td>1991-11-20</td>\n",
       "      <td>185</td>\n",
       "      <td>79</td>\n",
       "      <td>China PR</td>\n",
       "      <td>Tianjin TEDA FC</td>\n",
       "      <td>...</td>\n",
       "      <td>47+0</td>\n",
       "      <td>47+0</td>\n",
       "      <td>47+0</td>\n",
       "      <td>47+0</td>\n",
       "      <td>47+0</td>\n",
       "      <td>47+0</td>\n",
       "      <td>46+1</td>\n",
       "      <td>46+1</td>\n",
       "      <td>46+1</td>\n",
       "      <td>47+0</td>\n",
       "    </tr>\n",
       "  </tbody>\n",
       "</table>\n",
       "<p>18944 rows × 106 columns</p>\n",
       "</div>"
      ],
      "text/plain": [
       "       sofifa_id                                         player_url  \\\n",
       "0         158023  https://sofifa.com/player/158023/lionel-messi/...   \n",
       "1          20801  https://sofifa.com/player/20801/c-ronaldo-dos-...   \n",
       "2         200389  https://sofifa.com/player/200389/jan-oblak/210002   \n",
       "3         188545  https://sofifa.com/player/188545/robert-lewand...   \n",
       "4         190871  https://sofifa.com/player/190871/neymar-da-sil...   \n",
       "...          ...                                                ...   \n",
       "18939     256679  https://sofifa.com/player/256679/kevin-angulo/...   \n",
       "18940     257710  https://sofifa.com/player/257710/mengxuan-zhan...   \n",
       "18941     250989  https://sofifa.com/player/250989/zhenghao-wang...   \n",
       "18942     257697  https://sofifa.com/player/257697/zitong-chen/2...   \n",
       "18943     257936   https://sofifa.com/player/257936/yue-song/210002   \n",
       "\n",
       "              short_name                            long_name  age  \\\n",
       "0               L. Messi       Lionel Andrés Messi Cuccittini   33   \n",
       "1      Cristiano Ronaldo  Cristiano Ronaldo dos Santos Aveiro   35   \n",
       "2               J. Oblak                            Jan Oblak   27   \n",
       "3         R. Lewandowski                   Robert Lewandowski   31   \n",
       "4              Neymar Jr        Neymar da Silva Santos Júnior   28   \n",
       "...                  ...                                  ...  ...   \n",
       "18939          K. Angulo                         Kevin Angulo   24   \n",
       "18940     Zhang Mengxuan                       Mengxuan Zhang   21   \n",
       "18941      Wang Zhenghao                                  王政豪   20   \n",
       "18942        Chen Zitong                          Zitong Chen   23   \n",
       "18943           Song Yue                             Yue Song   28   \n",
       "\n",
       "              dob  height_cm  weight_kg nationality  \\\n",
       "0      1987-06-24        170         72   Argentina   \n",
       "1      1985-02-05        187         83    Portugal   \n",
       "2      1993-01-07        188         87    Slovenia   \n",
       "3      1988-08-21        184         80      Poland   \n",
       "4      1992-02-05        175         68      Brazil   \n",
       "...           ...        ...        ...         ...   \n",
       "18939  1996-04-13        176         73    Colombia   \n",
       "18940  1999-04-26        177         70    China PR   \n",
       "18941  2000-06-28        185         74    China PR   \n",
       "18942  1997-02-20        186         80    China PR   \n",
       "18943  1991-11-20        185         79    China PR   \n",
       "\n",
       "                                 club_name  ...   lwb   ldm   cdm   rdm   rwb  \\\n",
       "0                             FC Barcelona  ...  66+3  65+3  65+3  65+3  66+3   \n",
       "1                                 Juventus  ...  65+3  61+3  61+3  61+3  65+3   \n",
       "2                          Atlético Madrid  ...  32+3  36+3  36+3  36+3  32+3   \n",
       "3                        FC Bayern München  ...  64+3  65+3  65+3  65+3  64+3   \n",
       "4                      Paris Saint-Germain  ...  67+3  62+3  62+3  62+3  67+3   \n",
       "...                                    ...  ...   ...   ...   ...   ...   ...   \n",
       "18939                      América de Cali  ...  47+2  47+2  47+2  47+2  47+2   \n",
       "18940  Chongqing Dangdai Lifan FC SWM Team  ...  42+2  41+2  41+2  41+2  42+2   \n",
       "18941                      Tianjin TEDA FC  ...  42+2  42+2  42+2  42+2  42+2   \n",
       "18942        Shijiazhuang Ever Bright F.C.  ...  47+2  49+2  49+2  49+2  47+2   \n",
       "18943                      Tianjin TEDA FC  ...  47+0  47+0  47+0  47+0  47+0   \n",
       "\n",
       "         lb   lcb    cb   rcb    rb  \n",
       "0      62+3  52+3  52+3  52+3  62+3  \n",
       "1      61+3  54+3  54+3  54+3  61+3  \n",
       "2      32+3  33+3  33+3  33+3  32+3  \n",
       "3      61+3  60+3  60+3  60+3  61+3  \n",
       "4      62+3  49+3  49+3  49+3  62+3  \n",
       "...     ...   ...   ...   ...   ...  \n",
       "18939  47+2  46+2  46+2  46+2  47+2  \n",
       "18940  45+2  47+2  47+2  47+2  45+2  \n",
       "18941  44+2  47+2  47+2  47+2  44+2  \n",
       "18942  47+2  49+2  49+2  49+2  47+2  \n",
       "18943  47+0  46+1  46+1  46+1  47+0  \n",
       "\n",
       "[18944 rows x 106 columns]"
      ]
     },
     "execution_count": 3,
     "metadata": {},
     "output_type": "execute_result"
    }
   ],
   "source": [
    "import pandas as pd \n",
    "df=pd.read_csv(\"E:/PYTHON/DAY 2 project 2/players_21.csv\")\n",
    "df\n"
   ]
  },
  {
   "cell_type": "code",
   "execution_count": 4,
   "id": "4952a732",
   "metadata": {},
   "outputs": [
    {
     "name": "stdout",
     "output_type": "stream",
     "text": [
      "   sofifa_id                                         player_url  \\\n",
      "0     158023  https://sofifa.com/player/158023/lionel-messi/...   \n",
      "1      20801  https://sofifa.com/player/20801/c-ronaldo-dos-...   \n",
      "2     200389  https://sofifa.com/player/200389/jan-oblak/210002   \n",
      "3     188545  https://sofifa.com/player/188545/robert-lewand...   \n",
      "4     190871  https://sofifa.com/player/190871/neymar-da-sil...   \n",
      "5     192985  https://sofifa.com/player/192985/kevin-de-bruy...   \n",
      "6     231747  https://sofifa.com/player/231747/kylian-mbappe...   \n",
      "7     192448  https://sofifa.com/player/192448/marc-andre-te...   \n",
      "8     203376  https://sofifa.com/player/203376/virgil-van-di...   \n",
      "9     212831  https://sofifa.com/player/212831/alisson-ramse...   \n",
      "\n",
      "          short_name                            long_name  age         dob  \\\n",
      "0           L. Messi       Lionel Andrés Messi Cuccittini   33  1987-06-24   \n",
      "1  Cristiano Ronaldo  Cristiano Ronaldo dos Santos Aveiro   35  1985-02-05   \n",
      "2           J. Oblak                            Jan Oblak   27  1993-01-07   \n",
      "3     R. Lewandowski                   Robert Lewandowski   31  1988-08-21   \n",
      "4          Neymar Jr        Neymar da Silva Santos Júnior   28  1992-02-05   \n",
      "5       K. De Bruyne                      Kevin De Bruyne   29  1991-06-28   \n",
      "6          K. Mbappé                 Kylian Mbappé Lottin   21  1998-12-20   \n",
      "7      M. ter Stegen                Marc-André ter Stegen   28  1992-04-30   \n",
      "8        V. van Dijk                      Virgil van Dijk   28  1991-07-08   \n",
      "9            Alisson                Alisson Ramsés Becker   27  1992-10-02   \n",
      "\n",
      "   height_cm  weight_kg  nationality            club_name  ...   lwb   ldm  \\\n",
      "0        170         72    Argentina         FC Barcelona  ...  66+3  65+3   \n",
      "1        187         83     Portugal             Juventus  ...  65+3  61+3   \n",
      "2        188         87     Slovenia      Atlético Madrid  ...  32+3  36+3   \n",
      "3        184         80       Poland    FC Bayern München  ...  64+3  65+3   \n",
      "4        175         68       Brazil  Paris Saint-Germain  ...  67+3  62+3   \n",
      "5        181         70      Belgium      Manchester City  ...  79+3  80+3   \n",
      "6        178         73       France  Paris Saint-Germain  ...  67+3  63+3   \n",
      "7        187         85      Germany         FC Barcelona  ...  33+3  41+3   \n",
      "8        193         92  Netherlands            Liverpool  ...  80+3  85+3   \n",
      "9        191         91       Brazil            Liverpool  ...  31+3  35+3   \n",
      "\n",
      "    cdm   rdm   rwb    lb   lcb    cb   rcb    rb  \n",
      "0  65+3  65+3  66+3  62+3  52+3  52+3  52+3  62+3  \n",
      "1  61+3  61+3  65+3  61+3  54+3  54+3  54+3  61+3  \n",
      "2  36+3  36+3  32+3  32+3  33+3  33+3  33+3  32+3  \n",
      "3  65+3  65+3  64+3  61+3  60+3  60+3  60+3  61+3  \n",
      "4  62+3  62+3  67+3  62+3  49+3  49+3  49+3  62+3  \n",
      "5  80+3  80+3  79+3  75+3  69+3  69+3  69+3  75+3  \n",
      "6  63+3  63+3  67+3  63+3  55+3  55+3  55+3  63+3  \n",
      "7  41+3  41+3  33+3  31+3  33+3  33+3  33+3  31+3  \n",
      "8  85+3  85+3  80+3  82+3  89+2  89+2  89+2  82+3  \n",
      "9  35+3  35+3  31+3  30+3  30+3  30+3  30+3  30+3  \n",
      "\n",
      "[10 rows x 106 columns]\n"
     ]
    }
   ],
   "source": [
    "# Display first 10 rows\n",
    "print(df.head(10))"
   ]
  },
  {
   "cell_type": "code",
   "execution_count": 5,
   "id": "caaf8ebf",
   "metadata": {},
   "outputs": [
    {
     "name": "stdout",
     "output_type": "stream",
     "text": [
      "(18944, 106)\n",
      "['sofifa_id', 'player_url', 'short_name', 'long_name', 'age', 'dob', 'height_cm', 'weight_kg', 'nationality', 'club_name', 'league_name', 'league_rank', 'overall', 'potential', 'value_eur', 'wage_eur', 'player_positions', 'preferred_foot', 'international_reputation', 'weak_foot', 'skill_moves', 'work_rate', 'body_type', 'real_face', 'release_clause_eur', 'player_tags', 'team_position', 'team_jersey_number', 'loaned_from', 'joined', 'contract_valid_until', 'nation_position', 'nation_jersey_number', 'pace', 'shooting', 'passing', 'dribbling', 'defending', 'physic', 'gk_diving', 'gk_handling', 'gk_kicking', 'gk_reflexes', 'gk_speed', 'gk_positioning', 'player_traits', 'attacking_crossing', 'attacking_finishing', 'attacking_heading_accuracy', 'attacking_short_passing', 'attacking_volleys', 'skill_dribbling', 'skill_curve', 'skill_fk_accuracy', 'skill_long_passing', 'skill_ball_control', 'movement_acceleration', 'movement_sprint_speed', 'movement_agility', 'movement_reactions', 'movement_balance', 'power_shot_power', 'power_jumping', 'power_stamina', 'power_strength', 'power_long_shots', 'mentality_aggression', 'mentality_interceptions', 'mentality_positioning', 'mentality_vision', 'mentality_penalties', 'mentality_composure', 'defending_marking', 'defending_standing_tackle', 'defending_sliding_tackle', 'goalkeeping_diving', 'goalkeeping_handling', 'goalkeeping_kicking', 'goalkeeping_positioning', 'goalkeeping_reflexes', 'ls', 'st', 'rs', 'lw', 'lf', 'cf', 'rf', 'rw', 'lam', 'cam', 'ram', 'lm', 'lcm', 'cm', 'rcm', 'rm', 'lwb', 'ldm', 'cdm', 'rdm', 'rwb', 'lb', 'lcb', 'cb', 'rcb', 'rb']\n",
      "sofifa_id      int64\n",
      "player_url    object\n",
      "short_name    object\n",
      "long_name     object\n",
      "age            int64\n",
      "               ...  \n",
      "lb            object\n",
      "lcb           object\n",
      "cb            object\n",
      "rcb           object\n",
      "rb            object\n",
      "Length: 106, dtype: object\n"
     ]
    }
   ],
   "source": [
    "print( df.shape)\n",
    "print( df.columns.tolist())\n",
    "print( df.dtypes)"
   ]
  },
  {
   "cell_type": "code",
   "execution_count": 6,
   "id": "2153aa0a",
   "metadata": {},
   "outputs": [
    {
     "name": "stdout",
     "output_type": "stream",
     "text": [
      "sofifa_id     0\n",
      "player_url    0\n",
      "short_name    0\n",
      "long_name     0\n",
      "age           0\n",
      "             ..\n",
      "lb            0\n",
      "lcb           0\n",
      "cb            0\n",
      "rcb           0\n",
      "rb            0\n",
      "Length: 106, dtype: int64\n",
      "0\n"
     ]
    }
   ],
   "source": [
    "print( df.isnull().sum())\n",
    "print( df.duplicated().sum())\n"
   ]
  },
  {
   "cell_type": "code",
   "execution_count": 7,
   "id": "938340c9",
   "metadata": {},
   "outputs": [
    {
     "name": "stdout",
     "output_type": "stream",
     "text": [
      "           sofifa_id           age     height_cm     weight_kg   league_rank  \\\n",
      "count   18944.000000  18944.000000  18944.000000  18944.000000  18719.000000   \n",
      "mean   226242.402872     25.225823    181.190773     75.016892      1.357070   \n",
      "std     27171.091056      4.697354      6.825672      7.057140      0.739327   \n",
      "min        41.000000     16.000000    155.000000     50.000000      1.000000   \n",
      "25%    210030.500000     21.000000    176.000000     70.000000      1.000000   \n",
      "50%    232314.500000     25.000000    181.000000     75.000000      1.000000   \n",
      "75%    246760.250000     29.000000    186.000000     80.000000      1.000000   \n",
      "max    258970.000000     53.000000    206.000000    110.000000      4.000000   \n",
      "\n",
      "            overall     potential     value_eur       wage_eur  \\\n",
      "count  18944.000000  18944.000000  1.894400e+04   18944.000000   \n",
      "mean      65.677787     71.086729  2.224813e+06    8675.852513   \n",
      "std        7.002278      6.109985  5.102486e+06   19654.774894   \n",
      "min       47.000000     47.000000  0.000000e+00       0.000000   \n",
      "25%       61.000000     67.000000  3.000000e+05    1000.000000   \n",
      "50%       66.000000     71.000000  6.500000e+05    3000.000000   \n",
      "75%       70.000000     75.000000  1.800000e+06    7000.000000   \n",
      "max       93.000000     95.000000  1.055000e+08  560000.000000   \n",
      "\n",
      "       international_reputation  ...  mentality_penalties  \\\n",
      "count              18944.000000  ...         18944.000000   \n",
      "mean                   1.091850  ...            48.050412   \n",
      "std                    0.361841  ...            15.671721   \n",
      "min                    1.000000  ...             6.000000   \n",
      "25%                    1.000000  ...            38.750000   \n",
      "50%                    1.000000  ...            49.000000   \n",
      "75%                    1.000000  ...            60.000000   \n",
      "max                    5.000000  ...            92.000000   \n",
      "\n",
      "       mentality_composure  defending_marking  defending_standing_tackle  \\\n",
      "count         18944.000000                0.0               18944.000000   \n",
      "mean             57.978674                NaN                  47.581767   \n",
      "std              12.118390                NaN                  21.402461   \n",
      "min              12.000000                NaN                   5.000000   \n",
      "25%              50.000000                NaN                  27.000000   \n",
      "50%              59.000000                NaN                  55.000000   \n",
      "75%              66.000000                NaN                  65.000000   \n",
      "max              96.000000                NaN                  93.000000   \n",
      "\n",
      "       defending_sliding_tackle  goalkeeping_diving  goalkeeping_handling  \\\n",
      "count              18944.000000        18944.000000          18944.000000   \n",
      "mean                  45.546505           16.446052             16.236486   \n",
      "std                   20.953997           17.577332             16.845480   \n",
      "min                    4.000000            1.000000              1.000000   \n",
      "25%                   24.000000            8.000000              8.000000   \n",
      "50%                   52.000000           11.000000             11.000000   \n",
      "75%                   63.000000           14.000000             14.000000   \n",
      "max                   90.000000           90.000000             92.000000   \n",
      "\n",
      "       goalkeeping_kicking  goalkeeping_positioning  goalkeeping_reflexes  \n",
      "count         18944.000000             18944.000000          18944.000000  \n",
      "mean             16.103357                16.225982             16.551309  \n",
      "std              16.519399                17.017341             17.878121  \n",
      "min               1.000000                 1.000000              1.000000  \n",
      "25%               8.000000                 8.000000              8.000000  \n",
      "50%              11.000000                11.000000             11.000000  \n",
      "75%              14.000000                14.000000             14.000000  \n",
      "max              93.000000                91.000000             90.000000  \n",
      "\n",
      "[8 rows x 62 columns]\n"
     ]
    }
   ],
   "source": [
    "# Numerical summary\n",
    "print( df.describe())\n",
    "\n"
   ]
  },
  {
   "cell_type": "code",
   "execution_count": 8,
   "id": "7d11f93a",
   "metadata": {},
   "outputs": [
    {
     "name": "stdout",
     "output_type": "stream",
     "text": [
      "                                               player_url    short_name  \\\n",
      "count                                               18944         18944   \n",
      "unique                                              18944         17884   \n",
      "top     https://sofifa.com/player/158023/lionel-messi/...  J. Rodríguez   \n",
      "freq                                                    1            13   \n",
      "\n",
      "            long_name         dob nationality club_name  \\\n",
      "count           18944       18944       18944     18719   \n",
      "unique          18896        6236         162       681   \n",
      "top     Matthew Smith  1992-02-29     England   Crotone   \n",
      "freq                3         128        1685        33   \n",
      "\n",
      "                        league_name player_positions preferred_foot  \\\n",
      "count                         18719            18944          18944   \n",
      "unique                           52              611              2   \n",
      "top     English League Championship               CB          Right   \n",
      "freq                            709             2437          14448   \n",
      "\n",
      "            work_rate  ...    lwb    ldm    cdm    rdm    rwb     lb    lcb  \\\n",
      "count           18944  ...  18944  18944  18944  18944  18944  18944  18944   \n",
      "unique              9  ...    201    219    219    219    201    196    222   \n",
      "top     Medium/Medium  ...   59+2   61+2   61+2   61+2   59+2   60+2   61+2   \n",
      "freq             9980  ...    717    614    614    614    717    680    528   \n",
      "\n",
      "           cb    rcb     rb  \n",
      "count   18944  18944  18944  \n",
      "unique    222    222    196  \n",
      "top      61+2   61+2   60+2  \n",
      "freq      528    528    680  \n",
      "\n",
      "[4 rows x 44 columns]\n"
     ]
    }
   ],
   "source": [
    "\n",
    "# Categorical summary\n",
    "print( df.describe(include=['object']))"
   ]
  },
  {
   "cell_type": "code",
   "execution_count": 9,
   "id": "a6d943cb",
   "metadata": {},
   "outputs": [
    {
     "name": "stdout",
     "output_type": "stream",
     "text": [
      "681\n",
      "162\n"
     ]
    }
   ],
   "source": [
    "print( df['club_name'].nunique())\n",
    "print( df['nationality'].nunique())\n"
   ]
  },
  {
   "cell_type": "code",
   "execution_count": 10,
   "id": "93619e79",
   "metadata": {},
   "outputs": [
    {
     "name": "stdout",
     "output_type": "stream",
     "text": [
      "\n",
      "Most common nationality: England (1685 players)\n"
     ]
    }
   ],
   "source": [
    "most_common_nat = df['nationality'].value_counts().idxmax()\n",
    "most_common_nat_count = df['nationality'].value_counts().max()\n",
    "\n",
    "print(f\"\\nMost common nationality: {most_common_nat} ({most_common_nat_count} players)\")\n"
   ]
  },
  {
   "cell_type": "code",
   "execution_count": 11,
   "id": "f6a44833",
   "metadata": {},
   "outputs": [
    {
     "name": "stdout",
     "output_type": "stream",
     "text": [
      "\n",
      "Highest Overall: 93\n",
      "Player with highest overall: ['Lionel Andrés Messi Cuccittini']\n"
     ]
    }
   ],
   "source": [
    "max_overall = df['overall'].max()\n",
    "players_with_max = df[df['overall'] == max_overall]['long_name'].tolist()\n",
    "\n",
    "print(f\"\\nHighest Overall: {max_overall}\")\n",
    "print(\"Player with highest overall:\", players_with_max)\n"
   ]
  },
  {
   "cell_type": "code",
   "execution_count": 12,
   "id": "5b3687b1",
   "metadata": {},
   "outputs": [
    {
     "data": {
      "image/png": "[encoded data removed]",
      "text/plain": [
       "<Figure size 800x500 with 1 Axes>"
      ]
     },
     "metadata": {},
     "output_type": "display_data"
    }
   ],
   "source": [
    "import matplotlib.pyplot as plt\n",
    "import seaborn as sns\n",
    "plt.figure(figsize=(8, 5))\n",
    "sns.histplot(df['age'], bins=20, kde=False, color='skyblue')\n",
    "plt.title(\"Distribution of Player Ages\")\n",
    "plt.xlabel(\"age\")\n",
    "plt.ylabel(\"Count\")\n",
    "plt.show()\n"
   ]
  },
  {
   "cell_type": "code",
   "execution_count": 13,
   "id": "faf07e65",
   "metadata": {},
   "outputs": [
    {
     "name": "stdout",
     "output_type": "stream",
     "text": [
      "                             long_name  overall            club_name  \\\n",
      "0       Lionel Andrés Messi Cuccittini       93         FC Barcelona   \n",
      "1  Cristiano Ronaldo dos Santos Aveiro       92             Juventus   \n",
      "2                            Jan Oblak       91      Atlético Madrid   \n",
      "3                   Robert Lewandowski       91    FC Bayern München   \n",
      "4        Neymar da Silva Santos Júnior       91  Paris Saint-Germain   \n",
      "5                      Kevin De Bruyne       91      Manchester City   \n",
      "6                 Kylian Mbappé Lottin       90  Paris Saint-Germain   \n",
      "7                Marc-André ter Stegen       90         FC Barcelona   \n",
      "8                      Virgil van Dijk       90            Liverpool   \n",
      "9                Alisson Ramsés Becker       90            Liverpool   \n",
      "\n",
      "   nationality  \n",
      "0    Argentina  \n",
      "1     Portugal  \n",
      "2     Slovenia  \n",
      "3       Poland  \n",
      "4       Brazil  \n",
      "5      Belgium  \n",
      "6       France  \n",
      "7      Germany  \n",
      "8  Netherlands  \n",
      "9       Brazil  \n"
     ]
    }
   ],
   "source": [
    "top10_overall = df.sort_values(by='overall', ascending=False).head(10)\n",
    "print(top10_overall[['long_name', 'overall', 'club_name', 'nationality']])\n"
   ]
  },
  {
   "cell_type": "code",
   "execution_count": 14,
   "id": "12ed639d",
   "metadata": {},
   "outputs": [
    {
     "name": "stdout",
     "output_type": "stream",
     "text": [
      "club_name\n",
      "Qingdao Huanghai F.C.            29.360000\n",
      "Shanghai Greenland Shenhua FC    29.115385\n",
      "Al Fayha                         29.090909\n",
      "AC Mineros de Guayana            29.040000\n",
      "Yokohama FC                      29.033333\n",
      "                                   ...    \n",
      "Lincoln City                     21.925926\n",
      "AFC Wimbledon                    21.607143\n",
      "SC Heerenveen                    21.347826\n",
      "Bayern München II                20.714286\n",
      "FC Nordsjælland                  20.703704\n",
      "Name: age, Length: 681, dtype: float64\n"
     ]
    }
   ],
   "source": [
    "avg_age_per_club = df.groupby('club_name')['age'].mean().sort_values(ascending=False)\n",
    "print(avg_age_per_club)\n"
   ]
  },
  {
   "cell_type": "code",
   "execution_count": 15,
   "id": "e74fa83c",
   "metadata": {},
   "outputs": [
    {
     "data": {
      "image/png": "[encoded data removed]",
      "text/plain": [
       "<Figure size 800x500 with 1 Axes>"
      ]
     },
     "metadata": {},
     "output_type": "display_data"
    }
   ],
   "source": [
    "plt.figure(figsize=(8, 5))\n",
    "sns.scatterplot(data=df, x='overall', y='potential', alpha=0.6)\n",
    "plt.title(\"Overall vs Potential\")\n",
    "plt.xlabel(\"Overall\")\n",
    "plt.ylabel(\"Potential\")\n",
    "plt.show()\n"
   ]
  },
  {
   "cell_type": "code",
   "execution_count": 16,
   "id": "629a4219",
   "metadata": {},
   "outputs": [
    {
     "name": "stderr",
     "output_type": "stream",
     "text": [
      "C:\\Users\\yuvas\\AppData\\Local\\Temp\\ipykernel_19440\\983033382.py:4: FutureWarning: \n",
      "\n",
      "Passing `palette` without assigning `hue` is deprecated and will be removed in v0.14.0. Assign the `y` variable to `hue` and set `legend=False` for the same effect.\n",
      "\n",
      "  sns.barplot(x=top10_nat_wage.values, y=top10_nat_wage.index, palette=\"viridis\")\n"
     ]
    },
    {
     "data": {
      "image/png": "[encoded data removed]",
      "text/plain": [
       "<Figure size 1000x600 with 1 Axes>"
      ]
     },
     "metadata": {},
     "output_type": "display_data"
    }
   ],
   "source": [
    "top10_nat_wage = df.groupby('nationality')['wage_eur'].mean().sort_values(ascending=False).head(10)\n",
    "\n",
    "plt.figure(figsize=(10, 6))\n",
    "sns.barplot(x=top10_nat_wage.values, y=top10_nat_wage.index, palette=\"viridis\")\n",
    "plt.title(\"Average Wage by Nationality (Top 10)\")\n",
    "plt.xlabel(\"Average Wage\")\n",
    "plt.ylabel(\"Nationality\")\n",
    "plt.show()\n"
   ]
  },
  {
   "cell_type": "code",
   "execution_count": 18,
   "id": "693af8a2",
   "metadata": {},
   "outputs": [
    {
     "data": {
      "image/png": "[encoded data removed]",
      "text/plain": [
       "<Figure size 1200x600 with 1 Axes>"
      ]
     },
     "metadata": {},
     "output_type": "display_data"
    }
   ],
   "source": [
    "df['primary_position'] = df['player_positions'].str.split(',').str[0]\n",
    "plt.figure(figsize=(12, 6))\n",
    "sns.boxplot(x='primary_position', y='overall', data=df, order=df.groupby('primary_position')['overall'].median().sort_values(ascending=False).index)\n",
    "plt.xticks(rotation=45)\n",
    "plt.title(\"Distribution of Overall Ratings by Primary Position\")\n",
    "plt.show()\n"
   ]
  },
  {
   "cell_type": "code",
   "execution_count": 33,
   "id": "96522c72",
   "metadata": {},
   "outputs": [
    {
     "name": "stdout",
     "output_type": "stream",
     "text": [
      "                        long_name  value_eur            club_name  nationality\n",
      "6            Kylian Mbappé Lottin  105500000  Paris Saint-Germain       France\n",
      "4   Neymar da Silva Santos Júnior   90000000  Paris Saint-Germain       Brazil\n",
      "5                 Kevin De Bruyne   87000000      Manchester City      Belgium\n",
      "3              Robert Lewandowski   80000000    FC Bayern München       Poland\n",
      "11            Mohamed Salah Ghaly   78000000            Liverpool        Egypt\n",
      "10                     Sadio Mané   78000000            Liverpool      Senegal\n",
      "8                 Virgil van Dijk   75500000            Liverpool  Netherlands\n",
      "2                       Jan Oblak   75000000      Atlético Madrid     Slovenia\n",
      "19      Raheem Shaquille Sterling   72500000      Manchester City      England\n",
      "22    Paulo Bruno Exequiel Dybala   71000000             Juventus    Argentina\n"
     ]
    }
   ],
   "source": [
    "top10_value = df.sort_values(by='value_eur', ascending=False).head(10)\n",
    "print(top10_value[['long_name', 'value_eur', 'club_name', 'nationality']])\n"
   ]
  },
  {
   "cell_type": "code",
   "execution_count": 34,
   "id": "dc2e8b0f",
   "metadata": {},
   "outputs": [
    {
     "name": "stdout",
     "output_type": "stream",
     "text": [
      "Mean Overall: 65.68\n",
      "Median Overall: 66.0\n",
      "Mode Overall: 65\n"
     ]
    }
   ],
   "source": [
    "mean_overall = df['overall'].mean()\n",
    "median_overall = df['overall'].median()\n",
    "mode_overall = df['overall'].mode()[0]  # mode() returns a Series\n",
    "\n",
    "print(f\"Mean Overall: {mean_overall:.2f}\")\n",
    "print(f\"Median Overall: {median_overall}\")\n",
    "print(f\"Mode Overall: {mode_overall}\")\n"
   ]
  },
  {
   "cell_type": "code",
   "execution_count": 35,
   "id": "f54a5954",
   "metadata": {},
   "outputs": [
    {
     "name": "stdout",
     "output_type": "stream",
     "text": [
      "Variance of Overall: 49.03\n",
      "Standard Deviation of Overall: 7.00\n"
     ]
    }
   ],
   "source": [
    "variance_overall = df['overall'].var()\n",
    "std_dev_overall = df['overall'].std()\n",
    "\n",
    "print(f\"Variance of Overall: {variance_overall:.2f}\")\n",
    "print(f\"Standard Deviation of Overall: {std_dev_overall:.2f}\")\n"
   ]
  },
  {
   "cell_type": "code",
   "execution_count": 36,
   "id": "2f02b82e",
   "metadata": {},
   "outputs": [
    {
     "name": "stdout",
     "output_type": "stream",
     "text": [
      "Correlation (Age vs Overall): 0.4682\n"
     ]
    }
   ],
   "source": [
    "correlation_age_overall = df['age'].corr(df['overall'])\n",
    "print(f\"Correlation (Age vs Overall): {correlation_age_overall:.4f}\")\n"
   ]
  },
  {
   "cell_type": "code",
   "execution_count": 37,
   "id": "c4e8ad8d",
   "metadata": {},
   "outputs": [
    {
     "name": "stdout",
     "output_type": "stream",
     "text": [
      "Percentage of players with Potential > 85: 1.37%\n"
     ]
    }
   ],
   "source": [
    "percent_high_potential = (df['potential'] > 85).mean() * 100\n",
    "print(f\"Percentage of players with Potential > 85: {percent_high_potential:.2f}%\")\n"
   ]
  },
  {
   "cell_type": "code",
   "execution_count": 39,
   "id": "07b8df05",
   "metadata": {},
   "outputs": [
    {
     "name": "stdout",
     "output_type": "stream",
     "text": [
      "[93 92 91 ... 47 47 47]\n",
      "[93 92 93 ... 51 51 47]\n"
     ]
    }
   ],
   "source": [
    "import numpy as np\n",
    "\n",
    "overall_arr = df['overall'].to_numpy()\n",
    "print(overall_arr)\n",
    "potential_arr = df['potential'].to_numpy()\n",
    "print(potential_arr)\n"
   ]
  },
  {
   "cell_type": "code",
   "execution_count": 42,
   "id": "694f94f1",
   "metadata": {},
   "outputs": [
    {
     "name": "stdout",
     "output_type": "stream",
     "text": [
      "Difference array (potential - overall): [0 0 2 ... 4 4 0]\n"
     ]
    }
   ],
   "source": [
    "diff_arr = potential_arr - overall_arr\n",
    "print(\"Difference array (potential - overall):\", diff_arr)\n",
    "\n"
   ]
  },
  {
   "cell_type": "code",
   "execution_count": 43,
   "id": "064bfed6",
   "metadata": {},
   "outputs": [
    {
     "name": "stdout",
     "output_type": "stream",
     "text": [
      "Dot Product: 88961854\n"
     ]
    }
   ],
   "source": [
    "dot_product = np.dot(overall_arr, potential_arr)\n",
    "print(\"Dot Product:\", dot_product)\n"
   ]
  },
  {
   "cell_type": "code",
   "execution_count": 44,
   "id": "81ee5a0c",
   "metadata": {},
   "outputs": [
    {
     "name": "stdout",
     "output_type": "stream",
     "text": [
      "Normalized Overall Array: [0.01022997 0.01011997 0.01000997 ... 0.00516998 0.00516998 0.00516998]\n"
     ]
    }
   ],
   "source": [
    "norm_overall = np.linalg.norm(overall_arr)\n",
    "overall_normalized = overall_arr / norm_overall\n",
    "\n",
    "print(\"Normalized Overall Array:\", overall_normalized)\n"
   ]
  },
  {
   "cell_type": "code",
   "execution_count": 45,
   "id": "cfab81b4",
   "metadata": {},
   "outputs": [
    {
     "data": {
      "text/latex": [
       "$\\displaystyle 2 overall$"
      ],
      "text/plain": [
       "2*overall"
      ]
     },
     "execution_count": 45,
     "metadata": {},
     "output_type": "execute_result"
    }
   ],
   "source": [
    "import sympy as sp\n",
    "\n",
    "# Define symbols\n",
    "overall_sym, potential_sym = sp.symbols('overall potential')\n",
    "\n",
    "# Define the function\n",
    "P = overall_sym**2 + 0.5 * potential_sym\n",
    "\n",
    "# Differentiate wrt overall\n",
    "dP_dOverall = sp.diff(P, overall_sym)\n",
    "dP_dOverall\n"
   ]
  },
  {
   "cell_type": "code",
   "execution_count": 46,
   "id": "634491aa",
   "metadata": {},
   "outputs": [
    {
     "name": "stdout",
     "output_type": "stream",
     "text": [
      "   overall  dP_dOverall\n",
      "0       93          186\n",
      "1       92          184\n",
      "2       91          182\n",
      "3       91          182\n",
      "4       91          182\n"
     ]
    }
   ],
   "source": [
    "df['dP_dOverall'] = 2 * df['overall']\n",
    "print(df[['overall', 'dP_dOverall']].head())\n"
   ]
  },
  {
   "cell_type": "code",
   "execution_count": 52,
   "id": "3745a461",
   "metadata": {},
   "outputs": [
    {
     "name": "stdout",
     "output_type": "stream",
     "text": [
      "is_elite column:\n",
      "   overall  is_elite\n",
      "0       93         1\n",
      "1       92         1\n",
      "2       91         1\n",
      "3       91         1\n",
      "4       91         1 \n",
      "\n"
     ]
    }
   ],
   "source": [
    "df['is_elite'] = (df['overall'] >= 85).astype(int)\n",
    "print(\"is_elite column:\")\n",
    "print(df[['overall', 'is_elite']].head(), \"\\n\")\n"
   ]
  },
  {
   "cell_type": "code",
   "execution_count": 53,
   "id": "9c4fb1b2",
   "metadata": {},
   "outputs": [
    {
     "name": "stdout",
     "output_type": "stream",
     "text": [
      "value_million column:\n",
      "   value_eur  value_million\n",
      "0   67500000           67.5\n",
      "1   46000000           46.0\n",
      "2   75000000           75.0\n",
      "3   80000000           80.0\n",
      "4   90000000           90.0 \n",
      "\n"
     ]
    }
   ],
   "source": [
    "df['value_million'] = df['value_eur'] / 1_000_000\n",
    "print(\"value_million column:\")\n",
    "print(df[['value_eur', 'value_million']].head(), \"\\n\")\n"
   ]
  },
  {
   "cell_type": "code",
   "execution_count": 54,
   "id": "8d3f14ab",
   "metadata": {},
   "outputs": [
    {
     "name": "stdout",
     "output_type": "stream",
     "text": [
      "wage_thousand column:\n",
      "   wage_eur  wage_thousand\n",
      "0    560000          560.0\n",
      "1    220000          220.0\n",
      "2    125000          125.0\n",
      "3    240000          240.0\n",
      "4    270000          270.0 \n",
      "\n"
     ]
    }
   ],
   "source": [
    "df['wage_thousand'] = df['wage_eur'] / 1_000\n",
    "print(\"wage_thousand column:\")\n",
    "print(df[['wage_eur', 'wage_thousand']].head(), \"\\n\")\n"
   ]
  },
  {
   "cell_type": "code",
   "execution_count": 56,
   "id": "50288470",
   "metadata": {},
   "outputs": [
    {
     "name": "stdout",
     "output_type": "stream",
     "text": [
      "primary_position column:\n",
      "  player_positions primary_position\n",
      "0       RW, ST, CF               RW\n",
      "1           ST, LW               ST\n",
      "2               GK               GK\n",
      "3               ST               ST\n",
      "4          LW, CAM               LW \n",
      "\n"
     ]
    }
   ],
   "source": [
    "\n",
    "df['primary_position'] = df['player_positions'].str.split(',').str[0]\n",
    "print(\"primary_position column:\")\n",
    "print(df[['player_positions', 'primary_position']].head(), \"\\n\")\n"
   ]
  },
  {
   "cell_type": "code",
   "execution_count": 57,
   "id": "d12ad6dc",
   "metadata": {},
   "outputs": [
    {
     "name": "stdout",
     "output_type": "stream",
     "text": [
      "Players with Overall > 85:\n",
      "   sofifa_id                                         player_url  \\\n",
      "0     158023  https://sofifa.com/player/158023/lionel-messi/...   \n",
      "1      20801  https://sofifa.com/player/20801/c-ronaldo-dos-...   \n",
      "2     200389  https://sofifa.com/player/200389/jan-oblak/210002   \n",
      "3     188545  https://sofifa.com/player/188545/robert-lewand...   \n",
      "4     190871  https://sofifa.com/player/190871/neymar-da-sil...   \n",
      "\n",
      "          short_name                            long_name  age         dob  \\\n",
      "0           L. Messi       Lionel Andrés Messi Cuccittini   33  1987-06-24   \n",
      "1  Cristiano Ronaldo  Cristiano Ronaldo dos Santos Aveiro   35  1985-02-05   \n",
      "2           J. Oblak                            Jan Oblak   27  1993-01-07   \n",
      "3     R. Lewandowski                   Robert Lewandowski   31  1988-08-21   \n",
      "4          Neymar Jr        Neymar da Silva Santos Júnior   28  1992-02-05   \n",
      "\n",
      "   height_cm  weight_kg nationality            club_name  ...    lb   lcb  \\\n",
      "0        170         72   Argentina         FC Barcelona  ...  62+3  52+3   \n",
      "1        187         83    Portugal             Juventus  ...  61+3  54+3   \n",
      "2        188         87    Slovenia      Atlético Madrid  ...  32+3  33+3   \n",
      "3        184         80      Poland    FC Bayern München  ...  61+3  60+3   \n",
      "4        175         68      Brazil  Paris Saint-Germain  ...  62+3  49+3   \n",
      "\n",
      "     cb   rcb    rb  dP_dOverall is_elite value_million  wage_thousand  \\\n",
      "0  52+3  52+3  62+3          186        1          67.5          560.0   \n",
      "1  54+3  54+3  61+3          184        1          46.0          220.0   \n",
      "2  33+3  33+3  32+3          182        1          75.0          125.0   \n",
      "3  60+3  60+3  61+3          182        1          80.0          240.0   \n",
      "4  49+3  49+3  62+3          182        1          90.0          270.0   \n",
      "\n",
      "   primary_position  \n",
      "0                RW  \n",
      "1                ST  \n",
      "2                GK  \n",
      "3                ST  \n",
      "4                LW  \n",
      "\n",
      "[5 rows x 111 columns] \n",
      "\n"
     ]
    }
   ],
   "source": [
    "elite_players = df[df['overall'] > 85]\n",
    "print(\"Players with Overall > 85:\")\n",
    "print(elite_players.head(), \"\\n\")\n"
   ]
  },
  {
   "cell_type": "code",
   "execution_count": 59,
   "id": "cd225d15",
   "metadata": {},
   "outputs": [
    {
     "name": "stdout",
     "output_type": "stream",
     "text": [
      "Players with Overall > 85:\n",
      "   sofifa_id                                         player_url  \\\n",
      "0     158023  https://sofifa.com/player/158023/lionel-messi/...   \n",
      "1      20801  https://sofifa.com/player/20801/c-ronaldo-dos-...   \n",
      "2     200389  https://sofifa.com/player/200389/jan-oblak/210002   \n",
      "3     188545  https://sofifa.com/player/188545/robert-lewand...   \n",
      "4     190871  https://sofifa.com/player/190871/neymar-da-sil...   \n",
      "\n",
      "          short_name                            long_name  age         dob  \\\n",
      "0           L. Messi       Lionel Andrés Messi Cuccittini   33  1987-06-24   \n",
      "1  Cristiano Ronaldo  Cristiano Ronaldo dos Santos Aveiro   35  1985-02-05   \n",
      "2           J. Oblak                            Jan Oblak   27  1993-01-07   \n",
      "3     R. Lewandowski                   Robert Lewandowski   31  1988-08-21   \n",
      "4          Neymar Jr        Neymar da Silva Santos Júnior   28  1992-02-05   \n",
      "\n",
      "   height_cm  weight_kg nationality            club_name  ...    lb   lcb  \\\n",
      "0        170         72   Argentina         FC Barcelona  ...  62+3  52+3   \n",
      "1        187         83    Portugal             Juventus  ...  61+3  54+3   \n",
      "2        188         87    Slovenia      Atlético Madrid  ...  32+3  33+3   \n",
      "3        184         80      Poland    FC Bayern München  ...  61+3  60+3   \n",
      "4        175         68      Brazil  Paris Saint-Germain  ...  62+3  49+3   \n",
      "\n",
      "     cb   rcb    rb  dP_dOverall is_elite value_million  wage_thousand  \\\n",
      "0  52+3  52+3  62+3          186        1          67.5          560.0   \n",
      "1  54+3  54+3  61+3          184        1          46.0          220.0   \n",
      "2  33+3  33+3  32+3          182        1          75.0          125.0   \n",
      "3  60+3  60+3  61+3          182        1          80.0          240.0   \n",
      "4  49+3  49+3  62+3          182        1          90.0          270.0   \n",
      "\n",
      "   primary_position  \n",
      "0                RW  \n",
      "1                ST  \n",
      "2                GK  \n",
      "3                ST  \n",
      "4                LW  \n",
      "\n",
      "[5 rows x 111 columns] \n",
      "\n"
     ]
    }
   ],
   "source": [
    "elite_players = df[df['overall'] > 85]\n",
    "print(\"Players with Overall > 85:\")\n",
    "print(elite_players.head(), \"\\n\")\n"
   ]
  },
  {
   "cell_type": "code",
   "execution_count": 61,
   "id": "82c5b46c",
   "metadata": {},
   "outputs": [
    {
     "name": "stdout",
     "output_type": "stream",
     "text": [
      "Number of players by nationality:\n",
      "nationality\n",
      "England          1685\n",
      "Germany          1189\n",
      "Spain            1072\n",
      "France            984\n",
      "Argentina         936\n",
      "Brazil            887\n",
      "Japan             489\n",
      "Netherlands       432\n",
      "Italy             421\n",
      "United States     378\n",
      "Name: long_name, dtype: int64 \n",
      "\n"
     ]
    }
   ],
   "source": [
    "players_per_nat = df.groupby('nationality')['long_name'].count().sort_values(ascending=False)\n",
    "print(\"Number of players by nationality:\")\n",
    "print(players_per_nat.head(10), \"\\n\")  # top 10\n"
   ]
  },
  {
   "cell_type": "code",
   "execution_count": 62,
   "id": "4f4c95d2",
   "metadata": {},
   "outputs": [
    {
     "name": "stdout",
     "output_type": "stream",
     "text": [
      "Top 5 clubs with highest average overall:\n",
      "club_name\n",
      "FC Bayern München    81.045455\n",
      "Real Madrid          79.250000\n",
      "Chelsea              79.212121\n",
      "FC Barcelona         78.909091\n",
      "Liverpool            78.575758\n",
      "Name: overall, dtype: float64 \n",
      "\n"
     ]
    }
   ],
   "source": [
    "top5_clubs_avg_overall = df.groupby('club_name')['overall'].mean().sort_values(ascending=False).head(5)\n",
    "print(\"Top 5 clubs with highest average overall:\")\n",
    "print(top5_clubs_avg_overall, \"\\n\")\n"
   ]
  },
  {
   "cell_type": "code",
   "execution_count": 63,
   "id": "c01475cb",
   "metadata": {},
   "outputs": [
    {
     "name": "stdout",
     "output_type": "stream",
     "text": [
      "Number of players with 'Forward' in positions: 0\n",
      "\n"
     ]
    }
   ],
   "source": [
    "forward_count = df['player_positions'].str.contains(\"Forward\", case=False, na=False).sum()\n",
    "print(f\"Number of players with 'Forward' in positions: {forward_count}\\n\")\n"
   ]
  },
  {
   "cell_type": "code",
   "execution_count": 64,
   "id": "9126a5ba",
   "metadata": {},
   "outputs": [
    {
     "name": "stdout",
     "output_type": "stream",
     "text": [
      "Player with highest market value:\n",
      "long_name      Kylian Mbappé Lottin\n",
      "value_eur                 105500000\n",
      "club_name       Paris Saint-Germain\n",
      "nationality                  France\n",
      "Name: 6, dtype: object \n",
      "\n"
     ]
    }
   ],
   "source": [
    "max_value_idx = df['value_eur'].idxmax()\n",
    "highest_value_player = df.loc[max_value_idx, ['long_name', 'value_eur', 'club_name', 'nationality']]\n",
    "print(\"Player with highest market value:\")\n",
    "print(highest_value_player, \"\\n\")\n"
   ]
  },
  {
   "cell_type": "code",
   "execution_count": 65,
   "id": "6825939e",
   "metadata": {},
   "outputs": [
    {
     "name": "stdout",
     "output_type": "stream",
     "text": [
      "Club with highest average overall rating: FC Bayern München (81.05)\n",
      "\n"
     ]
    }
   ],
   "source": [
    "club_highest_avg = df.groupby('club_name')['overall'].mean().idxmax()\n",
    "club_highest_avg_rating = df.groupby('club_name')['overall'].mean().max()\n",
    "\n",
    "print(f\"Club with highest average overall rating: {club_highest_avg} ({club_highest_avg_rating:.2f})\\n\")\n"
   ]
  },
  {
   "cell_type": "code",
   "execution_count": 66,
   "id": "62f83b59",
   "metadata": {},
   "outputs": [
    {
     "name": "stdout",
     "output_type": "stream",
     "text": [
      "Nationality with most players: England (1685 players)\n",
      "\n"
     ]
    }
   ],
   "source": [
    "most_common_nat = df['nationality'].value_counts().idxmax()\n",
    "most_common_nat_count = df['nationality'].value_counts().max()\n",
    "\n",
    "print(f\"Nationality with most players: {most_common_nat} ({most_common_nat_count} players)\\n\")\n"
   ]
  },
  {
   "cell_type": "code",
   "execution_count": 67,
   "id": "473c719e",
   "metadata": {},
   "outputs": [
    {
     "name": "stdout",
     "output_type": "stream",
     "text": [
      "Correlation between Potential and Overall: 0.6364\n",
      "\n"
     ]
    }
   ],
   "source": [
    "corr_pot_overall = df['potential'].corr(df['overall'])\n",
    "print(f\"Correlation between Potential and Overall: {corr_pot_overall:.4f}\\n\")\n"
   ]
  },
  {
   "cell_type": "code",
   "execution_count": 68,
   "id": "d72b641b",
   "metadata": {},
   "outputs": [
    {
     "name": "stdout",
     "output_type": "stream",
     "text": [
      "Percentage of elite players: 0.52%\n",
      "\n"
     ]
    }
   ],
   "source": [
    "elite_percentage = (df['overall'] >= 85).mean() * 100\n",
    "print(f\"Percentage of elite players: {elite_percentage:.2f}%\\n\")\n"
   ]
  }
 ],
 "metadata": {
  "kernelspec": {
   "display_name": "Python 3",
   "language": "python",
   "name": "python3"
  },
  "language_info": {
   "codemirror_mode": {
    "name": "ipython",
    "version": 3
   },
   "file_extension": ".py",
   "mimetype": "text/x-python",
   "name": "python",
   "nbconvert_exporter": "python",
   "pygments_lexer": "ipython3",
   "version": "3.12.0"
  }
 },
 "nbformat": 4,
 "nbformat_minor": 5
}
